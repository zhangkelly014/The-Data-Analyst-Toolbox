{
 "cells": [
  {
   "cell_type": "markdown",
   "metadata": {},
   "source": [
    "# SQL Server Views\n",
    "\n",
    "By definition, views do not store data except for indexed views.\n",
    "\n",
    "```sql\n",
    "CREATE VIEW sales.product_info\n",
    "AS\n",
    "SELECT\n",
    "    product_name, \n",
    "    brand_name, \n",
    "    list_price\n",
    "FROM\n",
    "    production.products p\n",
    "INNER JOIN production.brands b \n",
    "        ON b.brand_id = p.brand_id;\n",
    "```    \n",
    "    "
   ]
  },
  {
   "cell_type": "markdown",
   "metadata": {},
   "source": [
    "```sql\n",
    "CREATE VIEW [OR ALTER] schema_name.view_name [(column_list)]\n",
    "AS\n",
    "    select_statement;\n",
    "\n",
    "DROP VIEW [IF EXISTS] schema_name.view_name;\n",
    "```"
   ]
  },
  {
   "cell_type": "code",
   "execution_count": null,
   "metadata": {},
   "outputs": [],
   "source": []
  }
 ],
 "metadata": {
  "kernelspec": {
   "display_name": "Python 3",
   "language": "python",
   "name": "python3"
  },
  "language_info": {
   "codemirror_mode": {
    "name": "ipython",
    "version": 3
   },
   "file_extension": ".py",
   "mimetype": "text/x-python",
   "name": "python",
   "nbconvert_exporter": "python",
   "pygments_lexer": "ipython3",
   "version": "3.7.3"
  }
 },
 "nbformat": 4,
 "nbformat_minor": 2
}
